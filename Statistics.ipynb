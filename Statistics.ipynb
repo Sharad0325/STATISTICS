{
 "cells": [
  {
   "cell_type": "markdown",
   "id": "155038a0-3d27-4c35-9240-7572268d9931",
   "metadata": {},
   "source": [
    "# Statistics Assignment"
   ]
  },
  {
   "cell_type": "markdown",
   "id": "e667f6f9-035b-4b68-b0ac-012983038bb1",
   "metadata": {},
   "source": [
    "## Import"
   ]
  },
  {
   "cell_type": "code",
   "execution_count": 3,
   "id": "73699437-b8e9-4f8d-832f-6c098477f8ed",
   "metadata": {},
   "outputs": [],
   "source": [
    "import numpy as np\n",
    "import pandas as pd\n",
    "import matplotlib.pyplot as plt\n",
    "import seaborn as sns\n",
    "from scipy import stats\n",
    "from scipy.stats import norm\n",
    "from scipy.stats import poisson\n",
    "from scipy.stats import skew\n",
    "from scipy.stats import expon"
   ]
  },
  {
   "cell_type": "markdown",
   "id": "112b477f-486f-494d-b2a6-49bdbb0299de",
   "metadata": {},
   "source": [
    "## Q1"
   ]
  },
  {
   "cell_type": "code",
   "execution_count": 5,
   "id": "cf01250a-b651-4e4a-99f4-40006626e154",
   "metadata": {},
   "outputs": [],
   "source": [
    "# Generate a list of 100 integers containing values between 90 to 130 and store it in the variable `int_list`. \n",
    "# After generating the list, find the following:\n",
    "data = np.random.randint(90,131,100)"
   ]
  },
  {
   "cell_type": "code",
   "execution_count": 6,
   "id": "e8685640-8d5a-4fb3-a785-a46d5836a8be",
   "metadata": {},
   "outputs": [],
   "source": [
    "d = [111,  94, 126, 120, 112, 113, 109, 104, 129, 104, 129, 119, 100,\n",
    "       130,  93, 120,  99, 121,  98,  94, 108, 103,  96,  91,  97, 121,\n",
    "        92, 107, 107, 107, 126,  95,  90, 124, 101, 126, 118,  97, 115,\n",
    "       124, 118,  99, 101, 119, 106,  98, 116, 119, 111,  95, 105, 110,\n",
    "       129, 114, 101,  95,  98, 114, 115, 107,  98, 129, 108, 107, 100,\n",
    "       112, 107,  92,  92, 113, 119,  97, 119, 114, 120, 106, 105,  97,\n",
    "       120, 102, 118, 124,  93, 103, 110,  94, 127,  91, 121,  97, 126,\n",
    "       111, 106, 125, 130, 124, 104,  97, 102,  95]"
   ]
  },
  {
   "cell_type": "markdown",
   "id": "5f7637ae-450d-49be-8885-c2b223e23948",
   "metadata": {},
   "source": [
    "### A"
   ]
  },
  {
   "cell_type": "code",
   "execution_count": 8,
   "id": "26f9a696-5bd4-430b-a1b9-48e117864f44",
   "metadata": {},
   "outputs": [],
   "source": [
    "# Write a Python function to calculate the mean of a given list of numbers.\n",
    "def cal_mean(x):\n",
    "    mean = np.mean(x)\n",
    "    return(mean)"
   ]
  },
  {
   "cell_type": "code",
   "execution_count": 9,
   "id": "94e34e43-7491-4e12-988a-2f71038c9ee1",
   "metadata": {},
   "outputs": [
    {
     "data": {
      "text/plain": [
       "109.7"
      ]
     },
     "execution_count": 9,
     "metadata": {},
     "output_type": "execute_result"
    }
   ],
   "source": [
    "cal_mean(data)"
   ]
  },
  {
   "cell_type": "code",
   "execution_count": 10,
   "id": "87a96b8e-dea5-44ab-98bb-5a41536d40b1",
   "metadata": {},
   "outputs": [],
   "source": [
    "# Create a function to find the median of a list of numbers.\n",
    "def cal_median(x):\n",
    "    median = np.median(x)\n",
    "    return(median)"
   ]
  },
  {
   "cell_type": "code",
   "execution_count": 11,
   "id": "02e2a157-e0cb-44f2-bb96-0c2dcf39487f",
   "metadata": {},
   "outputs": [
    {
     "data": {
      "text/plain": [
       "109.5"
      ]
     },
     "execution_count": 11,
     "metadata": {},
     "output_type": "execute_result"
    }
   ],
   "source": [
    "cal_median(data)"
   ]
  },
  {
   "cell_type": "markdown",
   "id": "6eb95eeb-1257-4496-811c-721dd1aee15b",
   "metadata": {},
   "source": [
    "### B"
   ]
  },
  {
   "cell_type": "code",
   "execution_count": 13,
   "id": "893ec1ff-22f1-4d13-83c7-1b31cb08b5d4",
   "metadata": {},
   "outputs": [
    {
     "data": {
      "text/plain": [
       "array([ 90,  91,  93,  94,  95,  96,  97,  98,  99, 100, 101, 102, 103,\n",
       "       104, 105, 106, 107, 108, 109, 110, 111, 112, 113, 114, 115, 116,\n",
       "       118, 119, 120, 121, 122, 123, 124, 125, 127, 128, 130])"
      ]
     },
     "execution_count": 13,
     "metadata": {},
     "output_type": "execute_result"
    }
   ],
   "source": [
    "# Develop a program to compute the mode of a list of integers.\n",
    "unique_values,counts = np.unique(data,return_counts=True)\n",
    "unique_values"
   ]
  },
  {
   "cell_type": "code",
   "execution_count": 14,
   "id": "ecdc597c-a2d7-49ce-bc96-41cc12c5c778",
   "metadata": {},
   "outputs": [
    {
     "data": {
      "text/plain": [
       "array([1, 1, 5, 1, 1, 7, 2, 6, 3, 1, 2, 4, 3, 3, 2, 3, 2, 1, 2, 2, 2, 2,\n",
       "       4, 1, 1, 5, 2, 4, 4, 3, 1, 5, 4, 4, 2, 2, 2], dtype=int64)"
      ]
     },
     "execution_count": 14,
     "metadata": {},
     "output_type": "execute_result"
    }
   ],
   "source": [
    "counts"
   ]
  },
  {
   "cell_type": "code",
   "execution_count": 15,
   "id": "fef78c03-225e-44d0-95f6-18774d1943dd",
   "metadata": {},
   "outputs": [
    {
     "name": "stdout",
     "output_type": "stream",
     "text": [
      "mode : 96\n"
     ]
    }
   ],
   "source": [
    "mode_index = np.argmax(counts)\n",
    "mode_value = unique_values[mode_index]\n",
    "print(\"mode :\" , mode_value)"
   ]
  },
  {
   "cell_type": "code",
   "execution_count": 16,
   "id": "116da635-f56f-413d-80bc-c1259557643d",
   "metadata": {},
   "outputs": [
    {
     "data": {
      "text/plain": [
       "5"
      ]
     },
     "execution_count": 16,
     "metadata": {},
     "output_type": "execute_result"
    }
   ],
   "source": [
    "mode_index"
   ]
  },
  {
   "cell_type": "markdown",
   "id": "3405344d-2731-4436-87c4-686dc36c4dc1",
   "metadata": {},
   "source": [
    "### C"
   ]
  },
  {
   "cell_type": "code",
   "execution_count": 18,
   "id": "25711055-14a0-405b-b1db-9713f56333de",
   "metadata": {},
   "outputs": [],
   "source": [
    "# Implement a function to calculate the weighted mean of a list of values and their corresponding weights.\n",
    "values = [ 90,  91,  92,  94,  95,  96,  97,  98,  99, 100, 101, 102, 104,105, 107, 108, 109, 110, 111, 112, 113, 114, 115, 116, 117, 118,\n",
    "       120, 121, 122, 123, 124, 125, 126, 127, 128, 129, 130]\n",
    "weights = [3, 1, 4, 3, 2, 2, 2, 3, 3, 1, 3, 4, 2, 3, 1, 4, 4, 3, 4, 3, 2, 4,1, 3, 1, 3, 4, 6, 3, 5, 1, 1, 1, 1, 3, 2, 4]\n",
    "\n",
    "def weighted_mean(values,weights):\n",
    "    \n",
    "    if len(values) != len(weights) or len(values) == 0:\n",
    "        print(\"values and weights must be of the same lenght and non-empty\")\n",
    "    else:\n",
    "        total_weight = sum(weights)\n",
    "        if total_weight == 0:\n",
    "            print(\"total weight must be non-zero\")\n",
    "        else:\n",
    "            weighted_sum = sum(v*w for v,w in zip(values,weights))\n",
    "            return weighted_sum / total_weight"
   ]
  },
  {
   "cell_type": "code",
   "execution_count": 19,
   "id": "ae61c548-5080-4250-b856-ab94c471156b",
   "metadata": {},
   "outputs": [
    {
     "data": {
      "text/plain": [
       "110.64"
      ]
     },
     "execution_count": 19,
     "metadata": {},
     "output_type": "execute_result"
    }
   ],
   "source": [
    "weighted_mean(values,weights)"
   ]
  },
  {
   "cell_type": "markdown",
   "id": "0c909f54-40ba-4166-841c-27e75808a168",
   "metadata": {},
   "source": [
    "### D"
   ]
  },
  {
   "cell_type": "code",
   "execution_count": 21,
   "id": "7feae3e7-5127-423d-b108-8b2502c5a5d1",
   "metadata": {},
   "outputs": [],
   "source": [
    "# Write a Python function to find the geometric mean of a list of positive numbers.\n",
    "import math\n",
    "from functools import reduce\n",
    "numbers = [10,18,27,-4,-85,7,3,-45]\n",
    "def geometric_mean(numbers):\n",
    "    positive_no = []\n",
    "    for i in numbers:\n",
    "        if i > 0:\n",
    "            positive_no.append(i)\n",
    "    product = reduce(lambda x,y:x*y,positive_no)\n",
    "    return product ** (1/len(positive_no))"
   ]
  },
  {
   "cell_type": "code",
   "execution_count": 22,
   "id": "33857080-6e1b-4ad4-a2b3-965ccfb2fcce",
   "metadata": {},
   "outputs": [
    {
     "data": {
      "text/plain": [
       "10.040864648496282"
      ]
     },
     "execution_count": 22,
     "metadata": {},
     "output_type": "execute_result"
    }
   ],
   "source": [
    "geometric_mean(numbers)"
   ]
  },
  {
   "cell_type": "markdown",
   "id": "7c06f919-3f7b-4c35-9dc3-0a2172378c23",
   "metadata": {},
   "source": [
    "### E"
   ]
  },
  {
   "cell_type": "code",
   "execution_count": 24,
   "id": "09551188-a7dd-4701-bae2-b12dc3340549",
   "metadata": {},
   "outputs": [],
   "source": [
    "# Create a program to calculate the harmonic mean of a list of values.\n",
    "numbers = [8,4,3,5]\n",
    "def harmonic_mean(numbers):\n",
    "    n= len(numbers)\n",
    "    raciprocal_sum = sum(1/i for i in numbers)\n",
    "    return n/raciprocal_sum"
   ]
  },
  {
   "cell_type": "code",
   "execution_count": 25,
   "id": "5032beb4-a23e-4a01-bc98-41041744abfb",
   "metadata": {},
   "outputs": [
    {
     "data": {
      "text/plain": [
       "4.4036697247706424"
      ]
     },
     "execution_count": 25,
     "metadata": {},
     "output_type": "execute_result"
    }
   ],
   "source": [
    "harmonic_mean(numbers)"
   ]
  },
  {
   "cell_type": "markdown",
   "id": "561c4e18-7c78-4f21-9166-844450561791",
   "metadata": {},
   "source": [
    "### F"
   ]
  },
  {
   "cell_type": "code",
   "execution_count": 27,
   "id": "c08b213e-4952-456c-8445-86667de868c4",
   "metadata": {},
   "outputs": [],
   "source": [
    "# Build a function to determine the midrange of a list of numbers (average of the minimum and maximum).\n",
    "d = [111,  94, 126, 120, 112, 113, 109, 104, 129, 104, 129, 119, 100,\n",
    "       130,  93, 120,  99, 121,  98,  94, 108, 103,  96,  91,  97, 121,\n",
    "        92, 107, 107, 107, 126,  95,  90, 124, 101, 126, 118,  97, 115,\n",
    "       124, 118,  99, 101, 119, 106,  98, 116, 119, 111,  95, 105, 110,\n",
    "       129, 114, 101,  95,  98, 114, 115, 107,  98, 129, 108, 107, 100,\n",
    "       112, 107,  92,  92, 113, 119,  97, 119, 114, 120, 106, 105,  97,\n",
    "       120, 102, 118, 124,  93, 103, 110,  94, 127,  91, 121,  97, 126,\n",
    "       111, 106, 125, 130, 124, 104,  97, 102,  95]\n",
    "def midrange(d):\n",
    "    min_value = np.min(d)\n",
    "    max_value = np.max(d)\n",
    "    return (min_value + max_value)/2"
   ]
  },
  {
   "cell_type": "code",
   "execution_count": 28,
   "id": "1e32951f-5b0d-416f-a632-2dbf51c846be",
   "metadata": {},
   "outputs": [
    {
     "data": {
      "text/plain": [
       "110.0"
      ]
     },
     "execution_count": 28,
     "metadata": {},
     "output_type": "execute_result"
    }
   ],
   "source": [
    "midrange(d)"
   ]
  },
  {
   "cell_type": "markdown",
   "id": "94ed5ec8-8d81-47a7-b478-5b3a916806f4",
   "metadata": {},
   "source": [
    "### H"
   ]
  },
  {
   "cell_type": "code",
   "execution_count": 30,
   "id": "5f3d0f93-27dd-49de-98bf-e344e562d211",
   "metadata": {},
   "outputs": [],
   "source": [
    "# Implement a Python program to find the trimmed mean of a list, excluding a certain percentage of outliers\n",
    "percentage = 20\n",
    "def trimmed_mean(d,percentage):\n",
    "    n = len(d)\n",
    "    sorted_num = sorted(d)\n",
    "    k = int(n * (percentage/100))  #no of values trim from each side\n",
    "    trimmed_list = sorted_num[k:n - k]\n",
    "    return sum(trimmed_list)/len(trimmed_list)"
   ]
  },
  {
   "cell_type": "code",
   "execution_count": 31,
   "id": "ee95110e-6567-4751-8e12-cd15d8ce6ef1",
   "metadata": {},
   "outputs": [
    {
     "data": {
      "text/plain": [
       "108.4"
      ]
     },
     "execution_count": 31,
     "metadata": {},
     "output_type": "execute_result"
    }
   ],
   "source": [
    "trimmed_mean(d,percentage)"
   ]
  },
  {
   "cell_type": "markdown",
   "id": "6a862e6a-12ca-4601-90ec-129d783c15b9",
   "metadata": {},
   "source": [
    "## Q2"
   ]
  },
  {
   "cell_type": "code",
   "execution_count": 33,
   "id": "80ab2c60-6f4d-4e0a-bd12-e45fa512b8cb",
   "metadata": {},
   "outputs": [],
   "source": [
    "#  Generate a list of 500 integers containing values between 200 to 300 and store it in the variable `int_list2`. \n",
    "# After generating the list, find the following:\n",
    "np.random.seed(5)\n",
    "int_list2 = np.random.randint(200,301,500)"
   ]
  },
  {
   "cell_type": "markdown",
   "id": "8f4e38a9-9da9-465f-9e26-f58855c8040a",
   "metadata": {},
   "source": [
    "### A"
   ]
  },
  {
   "cell_type": "code",
   "execution_count": 35,
   "id": "854b7c23-ca81-42ec-b4a9-4966ea5ad4ce",
   "metadata": {},
   "outputs": [],
   "source": [
    "# Compare the given list of visualization for the given data:\r",
    "# 1 Frequency & Gaussian distributionn# 2 . Frequency smoothened KDE plo# 3 3. Gaussian distribution & smoothened KDE plot"
   ]
  },
  {
   "cell_type": "markdown",
   "id": "b2dccd4e-849c-4276-a316-76359765fd9d",
   "metadata": {},
   "source": [
    "#### 1"
   ]
  },
  {
   "cell_type": "code",
   "execution_count": 37,
   "id": "a1934530-69e8-436b-a92d-ece932c928ca",
   "metadata": {},
   "outputs": [
    {
     "data": {
      "image/png": "[encoded data removed]",
      "text/plain": [
       "<Figure size 1400x600 with 2 Axes>"
      ]
     },
     "metadata": {},
     "output_type": "display_data"
    }
   ],
   "source": [
    "# Frequency & Gaussian distribution \n",
    "\n",
    "mean = np.mean(int_list2)\n",
    "std_dev = np.std(int_list2)\n",
    "\n",
    "plt.figure(figsize=(14,6))\n",
    "\n",
    "plt.subplot(1,2,1)\n",
    "plt.hist(int_list2,bins =20,color='g',density=True,alpha=0.6)\n",
    "plt.title('Frequency Distribution')\n",
    "plt.xticks(rotation = 45)\n",
    "plt.xlabel('values')\n",
    "plt.ylabel('Frequency')\n",
    "\n",
    "xmin , xmax = plt.xlim()\n",
    "x= np.linspace(xmin,xmax,100)\n",
    "p = norm.pdf(x,mean,std_dev)\n",
    "plt.subplot(1,2,2)\n",
    "plt.plot(x,p,'k')\n",
    "plt.title('Gaussian Distribution')\n",
    "plt.xlabel('values')\n",
    "plt.ylabel('Frequency')\n",
    "plt.xticks(rotation = 45)\n",
    "\n",
    "plt.tight_layout()\n",
    "plt.show()"
   ]
  },
  {
   "cell_type": "markdown",
   "id": "13a931bb-8f78-45a9-8c7d-aad4579517c9",
   "metadata": {},
   "source": [
    "#### 2"
   ]
  },
  {
   "cell_type": "code",
   "execution_count": 39,
   "id": "14cf82ac-2a3f-45c3-b637-db80d898356c",
   "metadata": {},
   "outputs": [
    {
     "data": {
      "image/png": "[encoded data removed]",
      "text/plain": [
       "<Figure size 1000x600 with 1 Axes>"
      ]
     },
     "metadata": {},
     "output_type": "display_data"
    }
   ],
   "source": [
    "# Frequency smoothened KDE plot\n",
    "plt.figure(figsize=(10,6))\n",
    "\n",
    "sns.kdeplot(int_list2)\n",
    "plt.title('KDE Plot')\n",
    "plt.xlabel('values')\n",
    "plt.ylabel('Density')\n",
    "plt.grid()\n",
    "plt.show()"
   ]
  },
  {
   "cell_type": "markdown",
   "id": "6c800b6b-c932-40d2-9481-62543f801b2c",
   "metadata": {},
   "source": [
    "#### 3"
   ]
  },
  {
   "cell_type": "code",
   "execution_count": 41,
   "id": "b06db316-25d1-4f59-80fe-1b8657468f73",
   "metadata": {},
   "outputs": [
    {
     "data": {
      "image/png": "[encoded data removed]",
      "text/plain": [
       "<Figure size 1400x600 with 2 Axes>"
      ]
     },
     "metadata": {},
     "output_type": "display_data"
    }
   ],
   "source": [
    "# Gaussian distribution & smoothened KDE plot\n",
    "# Frequency & Gaussian distribution \n",
    "\n",
    "mean = np.mean(int_list2)\n",
    "std_dev = np.std(int_list2)\n",
    "\n",
    "plt.figure(figsize=(14,6))\n",
    "\n",
    "plt.subplot(1,2,1)\n",
    "sns.kdeplot(int_list2)\n",
    "plt.title('KDE Plot')\n",
    "plt.xlabel('values')\n",
    "plt.ylabel('Density')\n",
    "plt.grid()\n",
    "plt.xticks(rotation = 45)\n",
    "\n",
    "xmin , xmax = plt.xlim()\n",
    "x= np.linspace(xmin,xmax,100)\n",
    "p = norm.pdf(x,mean,std_dev)\n",
    "plt.subplot(1,2,2)\n",
    "plt.plot(x,p,'k')\n",
    "plt.title('Gaussian Distribution')\n",
    "plt.xlabel('values')\n",
    "plt.ylabel('Frequency')\n",
    "plt.grid()\n",
    "plt.xticks(rotation = 45)\n",
    "\n",
    "plt.tight_layout()\n",
    "plt.show()"
   ]
  },
  {
   "cell_type": "markdown",
   "id": "d1f6f3ea-3c9d-4132-bfad-98d29744861b",
   "metadata": {},
   "source": [
    "### B"
   ]
  },
  {
   "cell_type": "code",
   "execution_count": 43,
   "id": "c593932d-707f-45b1-8b39-80c6e8f2f24b",
   "metadata": {},
   "outputs": [],
   "source": [
    "# Write a Python function to calculate the range of a given list of numbers.\n",
    "def range_cal(int_list2):\n",
    "    min = np.min(int_list2)\n",
    "    max = np.max(int_list2)\n",
    "    range = max - min\n",
    "    return range"
   ]
  },
  {
   "cell_type": "code",
   "execution_count": 44,
   "id": "573072d3-50bd-4b85-9716-868676101abb",
   "metadata": {},
   "outputs": [
    {
     "data": {
      "text/plain": [
       "100"
      ]
     },
     "execution_count": 44,
     "metadata": {},
     "output_type": "execute_result"
    }
   ],
   "source": [
    "range_cal(int_list2)"
   ]
  },
  {
   "cell_type": "markdown",
   "id": "c0619bd0-4f1c-4512-8f20-9716e18ba65a",
   "metadata": {},
   "source": [
    "### C"
   ]
  },
  {
   "cell_type": "code",
   "execution_count": 46,
   "id": "6bf13bdb-8265-4f48-beda-46eba658f856",
   "metadata": {},
   "outputs": [],
   "source": [
    "# Create a program to find the variance and standard deviation of a list of numbers.\n",
    "variance , standard_deviation = np.var(int_list2) , np.std(int_list2)"
   ]
  },
  {
   "cell_type": "code",
   "execution_count": 47,
   "id": "13f7814d-c45e-4d95-ba91-2c24c7a4a2e6",
   "metadata": {},
   "outputs": [
    {
     "data": {
      "text/plain": [
       "887.558124"
      ]
     },
     "execution_count": 47,
     "metadata": {},
     "output_type": "execute_result"
    }
   ],
   "source": [
    "variance"
   ]
  },
  {
   "cell_type": "code",
   "execution_count": 48,
   "id": "a5afeac8-4af2-4503-b8c4-a64ec5e17d45",
   "metadata": {},
   "outputs": [
    {
     "data": {
      "text/plain": [
       "29.791913735106043"
      ]
     },
     "execution_count": 48,
     "metadata": {},
     "output_type": "execute_result"
    }
   ],
   "source": [
    "std_dev"
   ]
  },
  {
   "cell_type": "markdown",
   "id": "b8b9c46a-761a-40b6-b7ac-8a76f02cc2aa",
   "metadata": {},
   "source": [
    "### D"
   ]
  },
  {
   "cell_type": "code",
   "execution_count": 50,
   "id": "c0926c32-9b8a-48e1-bc7e-9a15ed7dcdb2",
   "metadata": {},
   "outputs": [],
   "source": [
    "# Implement a function to compute the interquartile range (IQR) of a list of values.\n",
    "def interquartile_range(int_list2):\n",
    "    Q3 = np.quantile(int_list2,0.75)\n",
    "    Q1 = np.quantile(int_list2,0.25)\n",
    "    IQR = Q3-Q1\n",
    "    return IQR"
   ]
  },
  {
   "cell_type": "code",
   "execution_count": 51,
   "id": "b803a855-516b-4a5f-8e53-54cf34b143e8",
   "metadata": {},
   "outputs": [
    {
     "data": {
      "text/plain": [
       "54.0"
      ]
     },
     "execution_count": 51,
     "metadata": {},
     "output_type": "execute_result"
    }
   ],
   "source": [
    "interquartile_range(int_list2)"
   ]
  },
  {
   "cell_type": "markdown",
   "id": "2fb3acaf-7943-48de-8ea9-ef62a81d625a",
   "metadata": {},
   "source": [
    "### E"
   ]
  },
  {
   "cell_type": "code",
   "execution_count": 53,
   "id": "83209eee-0aa3-4a23-9c17-1aaf18098221",
   "metadata": {},
   "outputs": [],
   "source": [
    "# Build a program to calculate the coefficient of variation for a dataset.\n",
    "def coefficient_of_variation(int_list2):\n",
    "    mean = np.mean(int_list2)\n",
    "    std_deviation = np.std(int_list2,ddof=0)\n",
    "    cv = (std_deviation/mean)*100\n",
    "    return cv"
   ]
  },
  {
   "cell_type": "code",
   "execution_count": 54,
   "id": "1ab630b9-8626-4430-b181-3ce3fb0d83dc",
   "metadata": {},
   "outputs": [
    {
     "data": {
      "text/plain": [
       "11.970681443262873"
      ]
     },
     "execution_count": 54,
     "metadata": {},
     "output_type": "execute_result"
    }
   ],
   "source": [
    "coefficient_of_variation(int_list2)"
   ]
  },
  {
   "cell_type": "markdown",
   "id": "3b5f6ae4-c148-46d6-8b4c-811eedfc85b0",
   "metadata": {},
   "source": [
    "### F"
   ]
  },
  {
   "cell_type": "code",
   "execution_count": 56,
   "id": "c955bde7-24dc-4718-8b65-8703d46ecb11",
   "metadata": {},
   "outputs": [],
   "source": [
    "# Write a Python function to find the mean absolute deviation (MAD) of a list of numbers.\n",
    "def mean_absolute_deviation(int_list2):\n",
    "    mean = np.mean(int_list2)\n",
    "    absolute_deviation = np.abs(data - mean)\n",
    "    MAD = np.mean(absolute_deviation)\n",
    "    return MAD"
   ]
  },
  {
   "cell_type": "code",
   "execution_count": 57,
   "id": "80e33e15-ff3e-401f-8766-ed098eaf6f47",
   "metadata": {},
   "outputs": [
    {
     "data": {
      "text/plain": [
       "139.174"
      ]
     },
     "execution_count": 57,
     "metadata": {},
     "output_type": "execute_result"
    }
   ],
   "source": [
    "mean_absolute_deviation(int_list2)"
   ]
  },
  {
   "cell_type": "markdown",
   "id": "c2760b0d-68fa-4308-966e-062d10bd0de1",
   "metadata": {},
   "source": [
    "### G"
   ]
  },
  {
   "cell_type": "code",
   "execution_count": 59,
   "id": "86cdacc6-d24f-4089-9c2a-f17fc6537a40",
   "metadata": {},
   "outputs": [],
   "source": [
    "# Create a program to calculate the quartile deviation of a list of values.\n",
    "def quartile_deviation(int_list2):\n",
    "    Q3 = np.quantile(int_list2,0.75)\n",
    "    Q1 = np.quantile(int_list2,0.25)\n",
    "    QD = (Q3-Q1)/2\n",
    "    return QD"
   ]
  },
  {
   "cell_type": "code",
   "execution_count": 60,
   "id": "d1c74ae8-1b06-4ee1-8d15-c1071c7e8d22",
   "metadata": {},
   "outputs": [
    {
     "data": {
      "text/plain": [
       "27.0"
      ]
     },
     "execution_count": 60,
     "metadata": {},
     "output_type": "execute_result"
    }
   ],
   "source": [
    "quartile_deviation(int_list2)"
   ]
  },
  {
   "cell_type": "markdown",
   "id": "396c995c-733b-4175-8bb8-49a3d6072fad",
   "metadata": {},
   "source": [
    "### H"
   ]
  },
  {
   "cell_type": "code",
   "execution_count": 62,
   "id": "63f3589d-ed7a-4ac0-9d94-f82d80df0f6e",
   "metadata": {},
   "outputs": [],
   "source": [
    "# Implement a function to find the range-based coefficient of dispersion for a dataset.\n",
    "def coefficient_of_dispersion(int_list2):\n",
    "    mean = np.mean(int_list2)\n",
    "    data_range = np.max(int_list2) - np.min(int_list2)\n",
    "    CD = (data_range/mean) * 100\n",
    "    return CD"
   ]
  },
  {
   "cell_type": "code",
   "execution_count": 63,
   "id": "ddfe59d1-c4c5-495c-8c57-de5980f8b77f",
   "metadata": {},
   "outputs": [
    {
     "data": {
      "text/plain": [
       "40.18097511190402"
      ]
     },
     "execution_count": 63,
     "metadata": {},
     "output_type": "execute_result"
    }
   ],
   "source": [
    "coefficient_of_dispersion(int_list2)"
   ]
  },
  {
   "cell_type": "markdown",
   "id": "83294e55-5a5a-408f-b1ae-c7c9440892eb",
   "metadata": {},
   "source": [
    "## Q3"
   ]
  },
  {
   "cell_type": "code",
   "execution_count": 65,
   "id": "791e539a-8ce2-4eb1-8684-4bbee28e1cef",
   "metadata": {},
   "outputs": [],
   "source": [
    "# Write a Python class representing a discrete random variable with methods to calculate its expected value and variance\n",
    "probabilities = [.1,.2,.3,.4,.5,.6,.7,.8,.9] \n",
    "values = [1,2,3,4,5,6,7,8,9]\n",
    "class Discreterandomvariable:\n",
    "    def __init__(self,probabilities,values):\n",
    "        self.probabilities = np.array(probabilities)\n",
    "        self.values = np.array(values)\n",
    "\n",
    "    def expected_value(self):\n",
    "        return np.sum(self.probabilities * self.values)\n",
    "\n",
    "    def variance(self):\n",
    "        mean = self.expected_value()\n",
    "        return np.sum(self.probabilities * (self.values-mean) ** 2) "
   ]
  },
  {
   "cell_type": "code",
   "execution_count": 66,
   "id": "577aaaee-95a0-46cf-9cf7-a619672a9414",
   "metadata": {},
   "outputs": [],
   "source": [
    "rv = Discreterandomvariable(probabilities,values)"
   ]
  },
  {
   "cell_type": "code",
   "execution_count": 67,
   "id": "56c0d83b-5c6e-43de-a625-6be91cd81e3c",
   "metadata": {},
   "outputs": [
    {
     "data": {
      "text/plain": [
       "28.5"
      ]
     },
     "execution_count": 67,
     "metadata": {},
     "output_type": "execute_result"
    }
   ],
   "source": [
    "rv.expected_value()"
   ]
  },
  {
   "cell_type": "code",
   "execution_count": 68,
   "id": "7d33223d-9130-4d0f-b029-345a65e8b6c8",
   "metadata": {},
   "outputs": [
    {
     "data": {
      "text/plain": [
       "2233.125"
      ]
     },
     "execution_count": 68,
     "metadata": {},
     "output_type": "execute_result"
    }
   ],
   "source": [
    "rv.variance()"
   ]
  },
  {
   "cell_type": "markdown",
   "id": "4d69bda6-5c94-484d-8449-c3d2e66219d1",
   "metadata": {},
   "source": [
    "## Q4"
   ]
  },
  {
   "cell_type": "code",
   "execution_count": 70,
   "id": "6c776246-a547-4529-ad30-34ad74da3137",
   "metadata": {},
   "outputs": [],
   "source": [
    "#  Implement a program to simulate the rolling of a fair six-sided die and calculate the expected value and variance of the outcomes.\n",
    "num_rolls = 1000\n",
    "def simulate_die_rolls(num_rolls):\n",
    "    outcomes = np.random.randint(1,7,size= num_rolls)\n",
    "    return outcomes\n",
    "\n",
    "def expected_value(outcomes):\n",
    "     return np.mean(outcomes)\n",
    "\n",
    "def variance(outcomes):\n",
    "    return np.var(outcomes)"
   ]
  },
  {
   "cell_type": "code",
   "execution_count": 71,
   "id": "e27e5597-e0d7-4702-81e3-b32f95a210a6",
   "metadata": {},
   "outputs": [],
   "source": [
    "outcomes = simulate_die_rolls(num_rolls)"
   ]
  },
  {
   "cell_type": "code",
   "execution_count": 72,
   "id": "d3ada7b5-29dd-4070-976e-515c043c875c",
   "metadata": {},
   "outputs": [
    {
     "data": {
      "text/plain": [
       "3.458"
      ]
     },
     "execution_count": 72,
     "metadata": {},
     "output_type": "execute_result"
    }
   ],
   "source": [
    "expected_value(outcomes)"
   ]
  },
  {
   "cell_type": "code",
   "execution_count": 73,
   "id": "9ae72072-c5db-4aa1-b6e6-22fcbbab8d7e",
   "metadata": {},
   "outputs": [
    {
     "data": {
      "text/plain": [
       "2.960236"
      ]
     },
     "execution_count": 73,
     "metadata": {},
     "output_type": "execute_result"
    }
   ],
   "source": [
    "variance(outcomes)"
   ]
  },
  {
   "cell_type": "markdown",
   "id": "f28cf48c-4728-4c00-a445-db24b045b56c",
   "metadata": {},
   "source": [
    "## Q5"
   ]
  },
  {
   "cell_type": "code",
   "execution_count": 75,
   "id": "8705b4a2-0985-4964-9c72-3957f583566a",
   "metadata": {},
   "outputs": [],
   "source": [
    "# Create a Python function to generate random samples from a given probability distribution (e.g., binomial, Poisson) and \n",
    "# calculate their mean and variance.\n",
    "def gen_sample(dist_type,*params,size = 1000):\n",
    "    if dist_type == 'binomial':\n",
    "        n,p = params\n",
    "        samples = np.random.binomial(n,p,size = 1000)\n",
    "    elif dist_type == 'poisson':\n",
    "        lambda_ = params[0]\n",
    "        samples = np.random.poisson(lambda_,size = 1000)\n",
    "    else:\n",
    "        print(\"unsupported distribution typr use either 'binomial' or 'poisson'.\")\n",
    "\n",
    "    mean = np.mean(samples)\n",
    "    variance = np.var(samples)\n",
    "    return mean , variance"
   ]
  },
  {
   "cell_type": "code",
   "execution_count": 76,
   "id": "5cdfe2dc-3813-4431-bd6e-43c0407eaa8c",
   "metadata": {},
   "outputs": [],
   "source": [
    "mean , variance = gen_sample('binomial',10,0.5,size = 1000)"
   ]
  },
  {
   "cell_type": "code",
   "execution_count": 77,
   "id": "80230440-24de-44a4-9cab-183042e8e865",
   "metadata": {},
   "outputs": [
    {
     "data": {
      "text/plain": [
       "5.05"
      ]
     },
     "execution_count": 77,
     "metadata": {},
     "output_type": "execute_result"
    }
   ],
   "source": [
    "mean"
   ]
  },
  {
   "cell_type": "code",
   "execution_count": 78,
   "id": "bfefcaae-1ad8-4660-a6e4-1a496a58876f",
   "metadata": {},
   "outputs": [
    {
     "data": {
      "text/plain": [
       "2.5575"
      ]
     },
     "execution_count": 78,
     "metadata": {},
     "output_type": "execute_result"
    }
   ],
   "source": [
    "variance"
   ]
  },
  {
   "cell_type": "code",
   "execution_count": 79,
   "id": "ccd07ea5-803d-4d10-971b-86ebdd50d29f",
   "metadata": {},
   "outputs": [],
   "source": [
    "mean , variance = gen_sample('poisson',5,size = 1000)"
   ]
  },
  {
   "cell_type": "code",
   "execution_count": 80,
   "id": "c8db86aa-47c0-4eba-a746-8679c33d2215",
   "metadata": {},
   "outputs": [
    {
     "data": {
      "text/plain": [
       "4.99"
      ]
     },
     "execution_count": 80,
     "metadata": {},
     "output_type": "execute_result"
    }
   ],
   "source": [
    "mean"
   ]
  },
  {
   "cell_type": "code",
   "execution_count": 81,
   "id": "0cb164f4-7420-4dfb-a462-f51fa478daff",
   "metadata": {},
   "outputs": [
    {
     "data": {
      "text/plain": [
       "5.0539000000000005"
      ]
     },
     "execution_count": 81,
     "metadata": {},
     "output_type": "execute_result"
    }
   ],
   "source": [
    "variance"
   ]
  },
  {
   "cell_type": "markdown",
   "id": "53b0d169-66a6-42f2-a264-8e9c589f2b62",
   "metadata": {},
   "source": [
    "## Q6"
   ]
  },
  {
   "cell_type": "code",
   "execution_count": 83,
   "id": "f9f97f82-38b4-4a57-835a-ac10135154a5",
   "metadata": {},
   "outputs": [],
   "source": [
    "#  Write a Python script to generate random numbers from a Gaussian (normal) distribution and \n",
    "# compute the mean, variance, and standard deviation of the samples.\n",
    "def guassian_sample(mean=0,std_dev=1,size = 1000):\n",
    "    samples = np.random.normal(loc= mean , scale = std_dev,size=size)\n",
    "    mean_samples = np.mean(samples)\n",
    "    variance_samples = np.var(samples)\n",
    "    std_dev_samples = np.std(samples)\n",
    "    return mean_samples,variance_samples,std_dev_samples"
   ]
  },
  {
   "cell_type": "code",
   "execution_count": 84,
   "id": "1dcebed5-7b51-41c0-81e8-5729f6f87540",
   "metadata": {},
   "outputs": [],
   "source": [
    "mean_samples,variance_samples,std_dev_samples = guassian_sample(mean=0,std_dev=1,size = 1000)"
   ]
  },
  {
   "cell_type": "code",
   "execution_count": 85,
   "id": "9508f10a-08a0-4e0d-b8d0-07e32989fd84",
   "metadata": {},
   "outputs": [
    {
     "data": {
      "text/plain": [
       "0.015417676622351502"
      ]
     },
     "execution_count": 85,
     "metadata": {},
     "output_type": "execute_result"
    }
   ],
   "source": [
    "mean_samples"
   ]
  },
  {
   "cell_type": "code",
   "execution_count": 86,
   "id": "c65d79b9-f911-403e-b880-755501f3ff90",
   "metadata": {},
   "outputs": [
    {
     "data": {
      "text/plain": [
       "0.9652835612192255"
      ]
     },
     "execution_count": 86,
     "metadata": {},
     "output_type": "execute_result"
    }
   ],
   "source": [
    "variance_samples"
   ]
  },
  {
   "cell_type": "code",
   "execution_count": 87,
   "id": "b40d3adc-26e0-44c5-b3a5-3cb6bc09a724",
   "metadata": {},
   "outputs": [
    {
     "data": {
      "text/plain": [
       "0.9824884534788313"
      ]
     },
     "execution_count": 87,
     "metadata": {},
     "output_type": "execute_result"
    }
   ],
   "source": [
    "std_dev_samples"
   ]
  },
  {
   "cell_type": "markdown",
   "id": "8bb5f351-fcf8-4ac5-a568-d0c892557a2a",
   "metadata": {},
   "source": [
    "## Q7"
   ]
  },
  {
   "cell_type": "code",
   "execution_count": 89,
   "id": "910d850f-a3a5-469b-8cfd-c103ed1936dd",
   "metadata": {},
   "outputs": [
    {
     "data": {
      "text/plain": [
       "Index(['total_bill', 'tip', 'sex', 'smoker', 'day', 'time', 'size'], dtype='object')"
      ]
     },
     "execution_count": 89,
     "metadata": {},
     "output_type": "execute_result"
    }
   ],
   "source": [
    "# Find the following from the dataset for the columns `total_bill` and `tip`:\n",
    "df = pd.read_csv(\"tips_dataset.csv\")\n",
    "df.columns"
   ]
  },
  {
   "cell_type": "code",
   "execution_count": 90,
   "id": "0e293eb6-ec80-488b-a228-07732a3ffd88",
   "metadata": {},
   "outputs": [
    {
     "data": {
      "text/html": [
       "<div>\n",
       "<style scoped>\n",
       "    .dataframe tbody tr th:only-of-type {\n",
       "        vertical-align: middle;\n",
       "    }\n",
       "\n",
       "    .dataframe tbody tr th {\n",
       "        vertical-align: top;\n",
       "    }\n",
       "\n",
       "    .dataframe thead th {\n",
       "        text-align: right;\n",
       "    }\n",
       "</style>\n",
       "<table border=\"1\" class=\"dataframe\">\n",
       "  <thead>\n",
       "    <tr style=\"text-align: right;\">\n",
       "      <th></th>\n",
       "      <th>total_bill</th>\n",
       "      <th>tip</th>\n",
       "      <th>sex</th>\n",
       "      <th>smoker</th>\n",
       "      <th>day</th>\n",
       "      <th>time</th>\n",
       "      <th>size</th>\n",
       "    </tr>\n",
       "  </thead>\n",
       "  <tbody>\n",
       "    <tr>\n",
       "      <th>0</th>\n",
       "      <td>16.99</td>\n",
       "      <td>1.01</td>\n",
       "      <td>Female</td>\n",
       "      <td>No</td>\n",
       "      <td>Sun</td>\n",
       "      <td>Dinner</td>\n",
       "      <td>2</td>\n",
       "    </tr>\n",
       "    <tr>\n",
       "      <th>1</th>\n",
       "      <td>10.34</td>\n",
       "      <td>1.66</td>\n",
       "      <td>Male</td>\n",
       "      <td>No</td>\n",
       "      <td>Sun</td>\n",
       "      <td>Dinner</td>\n",
       "      <td>3</td>\n",
       "    </tr>\n",
       "    <tr>\n",
       "      <th>2</th>\n",
       "      <td>21.01</td>\n",
       "      <td>3.50</td>\n",
       "      <td>Male</td>\n",
       "      <td>No</td>\n",
       "      <td>Sun</td>\n",
       "      <td>Dinner</td>\n",
       "      <td>3</td>\n",
       "    </tr>\n",
       "    <tr>\n",
       "      <th>3</th>\n",
       "      <td>23.68</td>\n",
       "      <td>3.31</td>\n",
       "      <td>Male</td>\n",
       "      <td>No</td>\n",
       "      <td>Sun</td>\n",
       "      <td>Dinner</td>\n",
       "      <td>2</td>\n",
       "    </tr>\n",
       "    <tr>\n",
       "      <th>4</th>\n",
       "      <td>24.59</td>\n",
       "      <td>3.61</td>\n",
       "      <td>Female</td>\n",
       "      <td>No</td>\n",
       "      <td>Sun</td>\n",
       "      <td>Dinner</td>\n",
       "      <td>4</td>\n",
       "    </tr>\n",
       "    <tr>\n",
       "      <th>...</th>\n",
       "      <td>...</td>\n",
       "      <td>...</td>\n",
       "      <td>...</td>\n",
       "      <td>...</td>\n",
       "      <td>...</td>\n",
       "      <td>...</td>\n",
       "      <td>...</td>\n",
       "    </tr>\n",
       "    <tr>\n",
       "      <th>239</th>\n",
       "      <td>29.03</td>\n",
       "      <td>5.92</td>\n",
       "      <td>Male</td>\n",
       "      <td>No</td>\n",
       "      <td>Sat</td>\n",
       "      <td>Dinner</td>\n",
       "      <td>3</td>\n",
       "    </tr>\n",
       "    <tr>\n",
       "      <th>240</th>\n",
       "      <td>27.18</td>\n",
       "      <td>2.00</td>\n",
       "      <td>Female</td>\n",
       "      <td>Yes</td>\n",
       "      <td>Sat</td>\n",
       "      <td>Dinner</td>\n",
       "      <td>2</td>\n",
       "    </tr>\n",
       "    <tr>\n",
       "      <th>241</th>\n",
       "      <td>22.67</td>\n",
       "      <td>2.00</td>\n",
       "      <td>Male</td>\n",
       "      <td>Yes</td>\n",
       "      <td>Sat</td>\n",
       "      <td>Dinner</td>\n",
       "      <td>2</td>\n",
       "    </tr>\n",
       "    <tr>\n",
       "      <th>242</th>\n",
       "      <td>17.82</td>\n",
       "      <td>1.75</td>\n",
       "      <td>Male</td>\n",
       "      <td>No</td>\n",
       "      <td>Sat</td>\n",
       "      <td>Dinner</td>\n",
       "      <td>2</td>\n",
       "    </tr>\n",
       "    <tr>\n",
       "      <th>243</th>\n",
       "      <td>18.78</td>\n",
       "      <td>3.00</td>\n",
       "      <td>Female</td>\n",
       "      <td>No</td>\n",
       "      <td>Thur</td>\n",
       "      <td>Dinner</td>\n",
       "      <td>2</td>\n",
       "    </tr>\n",
       "  </tbody>\n",
       "</table>\n",
       "<p>244 rows × 7 columns</p>\n",
       "</div>"
      ],
      "text/plain": [
       "     total_bill   tip     sex smoker   day    time  size\n",
       "0         16.99  1.01  Female     No   Sun  Dinner     2\n",
       "1         10.34  1.66    Male     No   Sun  Dinner     3\n",
       "2         21.01  3.50    Male     No   Sun  Dinner     3\n",
       "3         23.68  3.31    Male     No   Sun  Dinner     2\n",
       "4         24.59  3.61  Female     No   Sun  Dinner     4\n",
       "..          ...   ...     ...    ...   ...     ...   ...\n",
       "239       29.03  5.92    Male     No   Sat  Dinner     3\n",
       "240       27.18  2.00  Female    Yes   Sat  Dinner     2\n",
       "241       22.67  2.00    Male    Yes   Sat  Dinner     2\n",
       "242       17.82  1.75    Male     No   Sat  Dinner     2\n",
       "243       18.78  3.00  Female     No  Thur  Dinner     2\n",
       "\n",
       "[244 rows x 7 columns]"
      ]
     },
     "execution_count": 90,
     "metadata": {},
     "output_type": "execute_result"
    }
   ],
   "source": [
    "df"
   ]
  },
  {
   "cell_type": "markdown",
   "id": "8e486d03-5ebf-4f36-94a2-8106ffcfdef6",
   "metadata": {},
   "source": [
    "### A"
   ]
  },
  {
   "cell_type": "code",
   "execution_count": 92,
   "id": "ab52abad-2576-49c2-931a-6c9a4fa7632e",
   "metadata": {},
   "outputs": [],
   "source": [
    "#  Write a Python function that calculates their skewness.\n",
    "col_1 = 'total_bill'\n",
    "col_2 = 'tip'\n",
    "def cal_skewness(df,col_1,col_2):\n",
    "    data1 = df[col_1]\n",
    "    data2 = df[col_2]\n",
    "    skewness1 = skew(data1)\n",
    "    skewness2 = skew(data2)\n",
    "    return skewness1,skewness2"
   ]
  },
  {
   "cell_type": "code",
   "execution_count": 93,
   "id": "15c74c61-9b0b-4ca7-8624-ad641a162c58",
   "metadata": {},
   "outputs": [
    {
     "data": {
      "text/plain": [
       "(1.1262346334818638, 1.4564266884221506)"
      ]
     },
     "execution_count": 93,
     "metadata": {},
     "output_type": "execute_result"
    }
   ],
   "source": [
    "cal_skewness(df,col_1,col_2)"
   ]
  },
  {
   "cell_type": "markdown",
   "id": "b7aa7bcd-f325-4791-8f6d-b72f41f0ad81",
   "metadata": {},
   "source": [
    "### B"
   ]
  },
  {
   "cell_type": "code",
   "execution_count": 95,
   "id": "4f7d05d6-29ba-45ba-bba4-5a7e815cb78a",
   "metadata": {},
   "outputs": [],
   "source": [
    "# Create a program that determines whether the columns exhibit positive skewness, negative skewness, or is  approximately symmetric."
   ]
  },
  {
   "cell_type": "code",
   "execution_count": 96,
   "id": "ab770319-56b3-4c6b-a4e6-c454e607bf95",
   "metadata": {},
   "outputs": [],
   "source": [
    "skew_total_bill = skew(df['total_bill'])\n",
    "skew_tip = skew(df['tip'])\n",
    "def classify_skewness(skewness,threshold=0.5):\n",
    "    if skewness > threshold:\n",
    "        return 'positive skewness'\n",
    "    elif skewness < -threshold:\n",
    "        return 'negetive skewness'\n",
    "    else:\n",
    "        return 'approximately symmetric'"
   ]
  },
  {
   "cell_type": "code",
   "execution_count": 97,
   "id": "e694adc7-0cb8-4d72-9836-89dbfb99d714",
   "metadata": {},
   "outputs": [
    {
     "name": "stdout",
     "output_type": "stream",
     "text": [
      "skewness of 'total_bill' : positive skewness\n",
      "\n",
      "skewness of 'tip' : positive skewness\n"
     ]
    }
   ],
   "source": [
    "skewness_total_bill = classify_skewness(skew_total_bill,threshold=0.5)\n",
    "print(f\"skewness of 'total_bill' : {skewness_total_bill}\")\n",
    "print()\n",
    "skewness_tip = classify_skewness(skew_tip,threshold=0.5)\n",
    "print(f\"skewness of 'tip' : {skewness_tip}\")"
   ]
  },
  {
   "cell_type": "markdown",
   "id": "54fbed9b-41b0-433b-8708-cd58417f3301",
   "metadata": {},
   "source": [
    "### C"
   ]
  },
  {
   "cell_type": "code",
   "execution_count": 99,
   "id": "6d2436fb-15f2-4ca7-9864-5e443051ec3c",
   "metadata": {},
   "outputs": [],
   "source": [
    "#  Write a function that calculates the covariance between two columns.\n",
    "col_1 = 'total_bill'\n",
    "col_2 = 'tip'\n",
    "def cal_covariance(df,col_1,col_2):\n",
    "    covariance = df[[col_1,col_2]].cov().loc[:,:]\n",
    "    return covariance"
   ]
  },
  {
   "cell_type": "code",
   "execution_count": 100,
   "id": "2dde03dc-48b4-4aad-9bff-6a196b4ebd9c",
   "metadata": {},
   "outputs": [
    {
     "data": {
      "text/html": [
       "<div>\n",
       "<style scoped>\n",
       "    .dataframe tbody tr th:only-of-type {\n",
       "        vertical-align: middle;\n",
       "    }\n",
       "\n",
       "    .dataframe tbody tr th {\n",
       "        vertical-align: top;\n",
       "    }\n",
       "\n",
       "    .dataframe thead th {\n",
       "        text-align: right;\n",
       "    }\n",
       "</style>\n",
       "<table border=\"1\" class=\"dataframe\">\n",
       "  <thead>\n",
       "    <tr style=\"text-align: right;\">\n",
       "      <th></th>\n",
       "      <th>total_bill</th>\n",
       "      <th>tip</th>\n",
       "    </tr>\n",
       "  </thead>\n",
       "  <tbody>\n",
       "    <tr>\n",
       "      <th>total_bill</th>\n",
       "      <td>79.252939</td>\n",
       "      <td>8.323502</td>\n",
       "    </tr>\n",
       "    <tr>\n",
       "      <th>tip</th>\n",
       "      <td>8.323502</td>\n",
       "      <td>1.914455</td>\n",
       "    </tr>\n",
       "  </tbody>\n",
       "</table>\n",
       "</div>"
      ],
      "text/plain": [
       "            total_bill       tip\n",
       "total_bill   79.252939  8.323502\n",
       "tip           8.323502  1.914455"
      ]
     },
     "execution_count": 100,
     "metadata": {},
     "output_type": "execute_result"
    }
   ],
   "source": [
    "cal_covariance(df,col_1,col_2)"
   ]
  },
  {
   "cell_type": "markdown",
   "id": "4b53d63e-4a2d-4f56-9836-1b0aafe37a49",
   "metadata": {},
   "source": [
    "### D"
   ]
  },
  {
   "cell_type": "code",
   "execution_count": 102,
   "id": "47316dd6-1963-4014-b391-1ba678ee75e8",
   "metadata": {},
   "outputs": [],
   "source": [
    "#  Implement a Python program that calculates the Pearson correlation coefficient between two columns.\n",
    "col_1 = 'total_bill'\n",
    "col_2 = 'tip'\n",
    "def cal_correlation(df,col_1,col_2):\n",
    "    correlation = df[[col_1,col_2]].corr().loc[:,:]\n",
    "    return correlation"
   ]
  },
  {
   "cell_type": "code",
   "execution_count": 103,
   "id": "68624058-cede-47df-bb60-82c35ccdad47",
   "metadata": {},
   "outputs": [
    {
     "data": {
      "text/html": [
       "<div>\n",
       "<style scoped>\n",
       "    .dataframe tbody tr th:only-of-type {\n",
       "        vertical-align: middle;\n",
       "    }\n",
       "\n",
       "    .dataframe tbody tr th {\n",
       "        vertical-align: top;\n",
       "    }\n",
       "\n",
       "    .dataframe thead th {\n",
       "        text-align: right;\n",
       "    }\n",
       "</style>\n",
       "<table border=\"1\" class=\"dataframe\">\n",
       "  <thead>\n",
       "    <tr style=\"text-align: right;\">\n",
       "      <th></th>\n",
       "      <th>total_bill</th>\n",
       "      <th>tip</th>\n",
       "    </tr>\n",
       "  </thead>\n",
       "  <tbody>\n",
       "    <tr>\n",
       "      <th>total_bill</th>\n",
       "      <td>1.000000</td>\n",
       "      <td>0.675734</td>\n",
       "    </tr>\n",
       "    <tr>\n",
       "      <th>tip</th>\n",
       "      <td>0.675734</td>\n",
       "      <td>1.000000</td>\n",
       "    </tr>\n",
       "  </tbody>\n",
       "</table>\n",
       "</div>"
      ],
      "text/plain": [
       "            total_bill       tip\n",
       "total_bill    1.000000  0.675734\n",
       "tip           0.675734  1.000000"
      ]
     },
     "execution_count": 103,
     "metadata": {},
     "output_type": "execute_result"
    }
   ],
   "source": [
    "cal_correlation(df,col_1,col_2)"
   ]
  },
  {
   "cell_type": "markdown",
   "id": "23b8b61e-aacf-401f-b8bd-14ff1d3ae8c8",
   "metadata": {},
   "source": [
    "### E"
   ]
  },
  {
   "cell_type": "code",
   "execution_count": 105,
   "id": "d5e09dfc-d28c-4634-962d-18940b2bd0e1",
   "metadata": {},
   "outputs": [],
   "source": [
    "#  Write a script to visualize the correlation between two specific columns in a Pandas DataFrame using scatter plots.\n",
    "col_1 = 'total_bill'\n",
    "col_2 = 'tip'\n",
    "def scatter_plot(df,col_1,col_2):\n",
    "    x = df[col_1]\n",
    "    y = df[col_2]\n",
    "    plt.figure(figsize=(10,6))\n",
    "    plt.scatter(x,y)\n",
    "    plt.title('Scatter Plot')\n",
    "    plt.xlabel(col_1)\n",
    "    plt.ylabel(col_2)\n",
    "    plt.show()"
   ]
  },
  {
   "cell_type": "code",
   "execution_count": 106,
   "id": "7f7b3027-aea7-4a2a-858d-385c57751e4d",
   "metadata": {},
   "outputs": [
    {
     "data": {
      "image/png": "[encoded data removed]",
      "text/plain": [
       "<Figure size 1000x600 with 1 Axes>"
      ]
     },
     "metadata": {},
     "output_type": "display_data"
    }
   ],
   "source": [
    "scatter_plot(df,col_1,col_2)"
   ]
  },
  {
   "cell_type": "markdown",
   "id": "756521e9-458c-4734-9e23-fa86d739135a",
   "metadata": {},
   "source": [
    "## Q8"
   ]
  },
  {
   "cell_type": "code",
   "execution_count": 108,
   "id": "95a9a7f6-5347-4f9e-bb6d-64b66acc33dd",
   "metadata": {},
   "outputs": [],
   "source": [
    "# Write a Python function to calculate the probability density function (PDF) of a continuous random variable for a given normal distribution.\n",
    "def cal_pdf(x,mean=0,std_dev=1):\n",
    "    pdf_values = norm.pdf(x,loc=mean,scale = std_dev)\n",
    "    return pdf_values"
   ]
  },
  {
   "cell_type": "code",
   "execution_count": 109,
   "id": "4b79d132-3766-4d35-8564-d67b7e6f13ed",
   "metadata": {},
   "outputs": [
    {
     "data": {
      "text/plain": [
       "1.4867195147342979e-06"
      ]
     },
     "execution_count": 109,
     "metadata": {},
     "output_type": "execute_result"
    }
   ],
   "source": [
    "cal_pdf(5)"
   ]
  },
  {
   "cell_type": "markdown",
   "id": "dbaff7ea-3683-43d8-aaf8-3f312ec61750",
   "metadata": {},
   "source": [
    "## Q9"
   ]
  },
  {
   "cell_type": "code",
   "execution_count": 111,
   "id": "fefaed28-dd50-4ce3-8295-9d4541c14ad1",
   "metadata": {},
   "outputs": [],
   "source": [
    "#  Create a program to calculate the cumulative distribution function (CDF) of exponential distribution\n",
    "def exp_cdf(x,rate):\n",
    "     cdf_value = expon.cdf(x,scale = 1/rate)\n",
    "     return cdf_value"
   ]
  },
  {
   "cell_type": "code",
   "execution_count": 112,
   "id": "608cc19c-c099-4120-a954-9f5192837061",
   "metadata": {},
   "outputs": [
    {
     "data": {
      "text/plain": [
       "0.950212931632136"
      ]
     },
     "execution_count": 112,
     "metadata": {},
     "output_type": "execute_result"
    }
   ],
   "source": [
    "exp_cdf(2,1.5)"
   ]
  },
  {
   "cell_type": "markdown",
   "id": "a6e626d1-7957-4f5b-84d0-c0214009b2af",
   "metadata": {},
   "source": [
    "## Q10"
   ]
  },
  {
   "cell_type": "code",
   "execution_count": 114,
   "id": "6d1638ce-5307-43a1-9e6a-553fd941f0b0",
   "metadata": {},
   "outputs": [],
   "source": [
    "# Write a Python function to calculate the probability mass function (PMF) of Poisson distribution.\n",
    "def poisson_pmf(k,lambda_):\n",
    "     pmf_value = poisson.pmf(k,mu = lambda_)\n",
    "     return pmf_value"
   ]
  },
  {
   "cell_type": "code",
   "execution_count": 115,
   "id": "b162eb96-19f7-408b-8811-0903801ac810",
   "metadata": {},
   "outputs": [
    {
     "data": {
      "text/plain": [
       "0.22404180765538775"
      ]
     },
     "execution_count": 115,
     "metadata": {},
     "output_type": "execute_result"
    }
   ],
   "source": [
    "poisson_pmf(2,3)"
   ]
  },
  {
   "cell_type": "markdown",
   "id": "52191e18-1333-4e98-8940-42d9dd17d6cd",
   "metadata": {},
   "source": [
    "## Q11"
   ]
  },
  {
   "cell_type": "code",
   "execution_count": 117,
   "id": "92df6ec6-cefb-4edc-b801-d71f7af6f0bc",
   "metadata": {},
   "outputs": [],
   "source": [
    "#  A company wants to test if a new website layout leads to a higher conversion rate (percentage of visitors who make a purchase). \n",
    "# They collect data from the old and new layouts to compare.To generate the data use the following command:\n",
    "# 50 purchases out of 1000 visitors\n",
    "old_layout = np.array([1] * 50 + [0] * 950)\n",
    "# 70 purchases out of 1000 visitors  \n",
    "new_layout = np.array([1] * 70 + [0] * 930)\n",
    "#Apply z-test to find which layout is successful."
   ]
  },
  {
   "cell_type": "code",
   "execution_count": 118,
   "id": "f867c84d-6472-425d-a5c2-06ca7fc23216",
   "metadata": {},
   "outputs": [
    {
     "name": "stdout",
     "output_type": "stream",
     "text": [
      "z-stats : -1.883108942886774\n",
      "\n",
      "p-value : 0.05968560553242619\n",
      "\n",
      "the diffrence is not statiistically significant. No strong evidence that the new layout is better\n"
     ]
    }
   ],
   "source": [
    "# calculate proportions\n",
    "p1 = np.mean(old_layout) \n",
    "p2 = np.mean(new_layout)\n",
    "\n",
    "# sample sizes\n",
    "n1 = len(old_layout)\n",
    "n2 = len(new_layout)\n",
    "\n",
    "# pooled proportion\n",
    "p_pooled = (np.sum(old_layout)+ np.sum(new_layout))/(n1+n2)\n",
    "\n",
    "# standard error\n",
    "se = np.sqrt(p_pooled * (1-p_pooled)* (1/n1 + 1/n2))\n",
    "\n",
    "# z statistics\n",
    "z = (p1-p2)/se\n",
    "\n",
    "# p value for two tail test\n",
    "p_value = 2 * (1-stats.norm.cdf(np.abs(z)))\n",
    "\n",
    "print(f\"z-stats : {z}\")\n",
    "print()\n",
    "print(f\"p-value : {p_value}\")\n",
    "print()\n",
    "\n",
    "alpha = 0.05\n",
    "\n",
    "if p_value < alpha:\n",
    "    print(\"the diffrence is statiistically significant. The new layout is more successful\")\n",
    "else:\n",
    "    print(\"the diffrence is not statiistically significant. No strong evidence that the new layout is better\")"
   ]
  },
  {
   "cell_type": "markdown",
   "id": "b78e6eee-f6ac-484d-ad6f-7681715e1ce8",
   "metadata": {},
   "source": [
    "## Q12"
   ]
  },
  {
   "cell_type": "code",
   "execution_count": 120,
   "id": "4b23c062-3006-448a-bfe1-ac90955a5c93",
   "metadata": {},
   "outputs": [],
   "source": [
    "#  A tutoring service claims that its program improves students' exam scores. A sample of students who participated in the program was taken, \n",
    "# and their scores before and after the program were recorded.Use the below code to generate samples of respective arrays of marks:\n",
    "before_program = np.array([75, 80, 85, 70, 90, 78, 92, 88, 82, 87])\n",
    "after_program = np.array([80, 85, 90, 80, 92, 80, 95, 90, 85, 88])\n",
    "#Use z-test to find if the claims made by tutor are true or false"
   ]
  },
  {
   "cell_type": "code",
   "execution_count": 121,
   "id": "16437bcd-41a3-4488-bcae-bb612fc6f99e",
   "metadata": {},
   "outputs": [
    {
     "name": "stdout",
     "output_type": "stream",
     "text": [
      "z-stats : 4.841648318657442\n",
      "\n",
      "p-value : 1.287665097438051e-06\n",
      "\n",
      "the diffrence is statiistically significant. The tutoring program improves scores\n"
     ]
    }
   ],
   "source": [
    "diffrences = after_program - before_program\n",
    "\n",
    "# mean and standard deviation\n",
    "mean_diff = np.mean(diffrences) \n",
    "std_diff = np.std(diffrences)\n",
    "\n",
    "# sample size\n",
    "n = len(diffrences)\n",
    "\n",
    "# z-stats\n",
    "z = mean_diff / (std_diff/np.sqrt(n))\n",
    "\n",
    "# p value for two tail test\n",
    "p_value = 2 * (1-stats.norm.cdf(np.abs(z)))\n",
    "\n",
    "print(f\"z-stats : {z}\")\n",
    "print()\n",
    "print(f\"p-value : {p_value}\")\n",
    "print()\n",
    "\n",
    "alpha = 0.05\n",
    "\n",
    "if p_value < alpha:\n",
    "    print(\"the diffrence is statiistically significant. The tutoring program improves scores\")\n",
    "else:\n",
    "    print(\"the diffrence is not statiistically significant. No strong evidence that the tutoring program improves scores\")"
   ]
  },
  {
   "cell_type": "markdown",
   "id": "59fc7e69-8738-47ba-8a7f-9a265be30b4e",
   "metadata": {},
   "source": [
    "## Q13"
   ]
  },
  {
   "cell_type": "code",
   "execution_count": 123,
   "id": "a1cc33c8-4c10-472f-88f6-2554a8262c8e",
   "metadata": {},
   "outputs": [],
   "source": [
    "# A pharmaceutical company wants to determine if a new drug is effective in reducing blood pressure. They conduct a study and record blood pressure \n",
    "# measurements before and after administering the drug.Use the below code to generate samples of respective arrays of blood pressure:\n",
    "before_drug = np.array([145, 150, 140, 135, 155, 160, 152, 148, 130, 138])\n",
    "after_drug = np.array([130, 140, 132, 128, 145, 148, 138, 136, 125, 130])\n",
    "# Implement z-test to find if the drug really works or not"
   ]
  },
  {
   "cell_type": "code",
   "execution_count": 124,
   "id": "4276f86a-1192-4aaf-8d8f-133d29394d84",
   "metadata": {},
   "outputs": [
    {
     "name": "stdout",
     "output_type": "stream",
     "text": [
      "z-stats : 10.593499054713803\n",
      "\n",
      "p-value : 0.0\n",
      "\n",
      "the diffrence is statiistically significant. The drug is effective in reducing blood pressure\n"
     ]
    }
   ],
   "source": [
    "diffrences = before_drug - after_drug\n",
    "\n",
    "# mean and standard deviation\n",
    "mean_diff = np.mean(diffrences) \n",
    "std_diff = np.std(diffrences)\n",
    "\n",
    "# sample size\n",
    "n = len(diffrences)\n",
    "\n",
    "# z-stats\n",
    "z = mean_diff / (std_diff/np.sqrt(n))\n",
    "\n",
    "# p value for two tail test\n",
    "p_value = 2 * (1-stats.norm.cdf(np.abs(z)))\n",
    "\n",
    "print(f\"z-stats : {z}\")\n",
    "print()\n",
    "print(f\"p-value : {p_value}\")\n",
    "print()\n",
    "\n",
    "alpha = 0.05\n",
    "\n",
    "if p_value < alpha:\n",
    "    print(\"the diffrence is statiistically significant. The drug is effective in reducing blood pressure\")\n",
    "else:\n",
    "    print(\"the diffrence is not statiistically significant. No strong evidence that the drug reduces blood pressure \")"
   ]
  },
  {
   "cell_type": "markdown",
   "id": "3c2872a0-e5c6-468f-9043-650bfe19e5a4",
   "metadata": {},
   "source": [
    "## Q14 "
   ]
  },
  {
   "cell_type": "code",
   "execution_count": 126,
   "id": "e5914d75-728a-4ac9-a544-4b18c4e0afe6",
   "metadata": {},
   "outputs": [],
   "source": [
    "#  A customer service department claims that their average response time is less than 5 minutes. A sample of recent customer interactions was taken, \n",
    "# and the response times were recorded.Implement the below code to generate the array of response time:\n",
    "response_times = np.array([4.3, 3.8, 5.1, 4.9, 4.7, 4.2, 5.2, 4.5, 4.6, 4.4])\n",
    "# Implement z-test to find the claims made by customer service department are true or false."
   ]
  },
  {
   "cell_type": "code",
   "execution_count": 127,
   "id": "76338ec9-d6ce-461d-900a-d4ba51aff961",
   "metadata": {},
   "outputs": [
    {
     "name": "stdout",
     "output_type": "stream",
     "text": [
      "z-stats : -3.356712648559143\n",
      "\n",
      "p-value : 0.00039437520387081387\n",
      "\n",
      "the result is statiistically significant. The claim that the average response time is less than 5 minutes is supported\n"
     ]
    }
   ],
   "source": [
    "# mean and standard deviation\n",
    "mu = 5\n",
    "sample_mean = np.mean(response_times) \n",
    "sample_std = np.std(response_times)\n",
    "\n",
    "# sample size\n",
    "n = len(response_times)\n",
    "\n",
    "# z-stats\n",
    "z = (sample_mean-mu) / (sample_std/np.sqrt(n))\n",
    "\n",
    "# p value for two tail test\n",
    "p_value = stats.norm.cdf(z)\n",
    "\n",
    "print(f\"z-stats : {z}\")\n",
    "print()\n",
    "print(f\"p-value : {p_value}\")\n",
    "print()\n",
    "\n",
    "alpha = 0.05\n",
    "\n",
    "if p_value < alpha:\n",
    "    print(\"the result is statiistically significant. The claim that the average response time is less than 5 minutes is supported\")\n",
    "else:\n",
    "    print(\"the result is not statiistically significant. There is no strong evidence to support the claim that the average response time is less than 5 minutes \")"
   ]
  },
  {
   "cell_type": "markdown",
   "id": "228ba89f-bf5c-45eb-94ad-0799483cde78",
   "metadata": {},
   "source": [
    "## Q15"
   ]
  },
  {
   "cell_type": "code",
   "execution_count": 129,
   "id": "80bd640d-7906-45b1-b5be-6e9e48833b85",
   "metadata": {},
   "outputs": [],
   "source": [
    "# A company is testing two different website layouts to see which one leads to higher click-through rates. Write a Python function to perform an A/B \n",
    "# test analysis, including calculating the t-statistic, degrees of freedom, and p-value.Use the following data:\n",
    "layout_a_clicks = [28, 32, 33, 29, 31, 34, 30, 35, 36, 37]\n",
    "layout_b_clicks = [40, 41, 38, 42, 39, 44, 43, 41, 45, 47]\n",
    "a = np.array(layout_a_clicks)\n",
    "b = np.array(layout_b_clicks)"
   ]
  },
  {
   "cell_type": "code",
   "execution_count": 130,
   "id": "16fd15f6-d159-416b-96de-4b3df8e87871",
   "metadata": {},
   "outputs": [],
   "source": [
    "def ab_test_analysis(layout_a_clicks,layout_b_clicks):\n",
    "\n",
    "# convert list to array    \n",
    "    a = np.array(layout_a_clicks)\n",
    "    b = np.array(layout_b_clicks)\n",
    "\n",
    "# calculate mean\n",
    "    mean_a = np.mean(a)\n",
    "    mean_b = np.mean(b)\n",
    "\n",
    "# calculate standard deviation\n",
    "    std_a = np.std(a)\n",
    "    std_b = np.std(b)\n",
    "\n",
    "# sample sizes\n",
    "    n_a = len(a)\n",
    "    n_b = len(b)\n",
    "\n",
    "# calculate pooled standard deviation\n",
    "    pooled_std = np.sqrt(((std_a ** 2) / n_a) + ((std_b ** 2) / n_b))\n",
    "\n",
    "# calculate t_statistics\n",
    "    t_stats = (mean_a - mean_b)/pooled_std\n",
    "\n",
    "# calculate degree of freedom\n",
    "    numerator = (std_a ** 2 / n_a + std_b ** 2 / n_b) ** 2\n",
    "    denomintor = ((std_a ** 2 / n_a)**2 / (n_a-1)) + ((std_b ** 2 / n_b)**2 / (n_b-1))\n",
    "    df = numerator/denomintor\n",
    "\n",
    "# calculate p_value\n",
    "    p_val = 2 * stats.t.cdf(-abs(t_stats),df)\n",
    "    \n",
    "    return t_stats,df,p_val"
   ]
  },
  {
   "cell_type": "code",
   "execution_count": 131,
   "id": "67e0c4b6-c9eb-4aab-8a24-3ae0f2f4c59c",
   "metadata": {},
   "outputs": [
    {
     "name": "stdout",
     "output_type": "stream",
     "text": [
      "T-statistics: -7.692875136699702\n",
      "\n",
      "Deegrees of Freedom: 17.879871863320872\n",
      "\n",
      "P_value: 4.451869906164299e-07\n",
      "\n",
      "there is significant difference in click-through rates between two layouts\n"
     ]
    }
   ],
   "source": [
    "t_stats,df,p_val = ab_test_analysis(layout_a_clicks,layout_b_clicks)\n",
    "print(f\"T-statistics: {t_stats}\")\n",
    "print()\n",
    "print(f\"Deegrees of Freedom: {df}\")\n",
    "print()\n",
    "print(f\"P_value: {p_val}\")\n",
    "print()\n",
    "alpha = 0.05\n",
    "if p_val < alpha:\n",
    "    print(\"there is significant difference in click-through rates between two layouts\")\n",
    "else:\n",
    "    print(\"there is 'NO' significant difference in click-through rates between two layouts\")"
   ]
  },
  {
   "cell_type": "markdown",
   "id": "78bd941f-5b75-47d1-83df-9c1b8e8f0dfd",
   "metadata": {},
   "source": [
    "## Q16"
   ]
  },
  {
   "cell_type": "code",
   "execution_count": 133,
   "id": "4b623f13-0d4b-47fa-95d6-96d21d9f3dda",
   "metadata": {},
   "outputs": [],
   "source": [
    "# A pharmaceutical company wants to determine if a new drug is more effective than an existing drug in reducing cholesterol levels.Create a program to \n",
    "# analyze the clinical trial data and calculate the t=statistic and p-value for the treatment effect.Use the following data of cholestrol level:\n",
    "existing_drug_levels = [180, 182, 175, 185, 178, 176, 172, 184, 179, 183]\n",
    "new_drug_levels = [170, 172, 165, 168, 175, 173, 170, 178, 172, 176]"
   ]
  },
  {
   "cell_type": "code",
   "execution_count": 134,
   "id": "da844137-d218-4895-80ef-a16a0931cd8f",
   "metadata": {},
   "outputs": [],
   "source": [
    "def clinical_trial(existing_drug_levels,new_drug_levels):\n",
    "\n",
    "# convert list to array    \n",
    "    existing = np.array(existing_drug_levels)\n",
    "    new = np.array(new_drug_levels)\n",
    "\n",
    "# calculate mean\n",
    "    mean_existing = np.mean(existing)\n",
    "    mean_new = np.mean(new)\n",
    "\n",
    "# calculate standard deviation\n",
    "    std_existing = np.std(existing)\n",
    "    std_new = np.std(new)\n",
    "\n",
    "# sample sizes\n",
    "    n_existing = len(existing)\n",
    "    n_new = len(new)\n",
    "\n",
    "# calculate pooled standard deviation\n",
    "    pooled_std = np.sqrt(((std_existing ** 2) / n_existing) + ((std_new ** 2) / n_new))\n",
    "\n",
    "# calculate t_statistics\n",
    "    t_stats = (mean_existing - mean_new)/pooled_std\n",
    "\n",
    "# calculate degree of freedom\n",
    "    numerator = (std_existing ** 2 / n_existing + std_new ** 2 / n_new) ** 2\n",
    "    denomintor = ((std_existing ** 2 / n_existing)**2 / (n_existing-1)) + ((std_new ** 2 / n_new)**2 / (n_new-1))\n",
    "    df = numerator/denomintor\n",
    "\n",
    "# calculate p_value\n",
    "    p_value = 2 * stats.t.cdf(-abs(t_stats),df)\n",
    "    \n",
    "    return t_stats,df,p_value"
   ]
  },
  {
   "cell_type": "code",
   "execution_count": 135,
   "id": "71a61d5e-84fb-477a-a011-4a8c6545e8ef",
   "metadata": {},
   "outputs": [
    {
     "name": "stdout",
     "output_type": "stream",
     "text": [
      "T-statistics: 4.364450175013195\n",
      "\n",
      "Deegrees of Freedom: 17.86677076558234\n",
      "\n",
      "P_value: 0.0003796646768838177\n",
      "\n",
      "there is significant difference in quality between the two versions\n"
     ]
    }
   ],
   "source": [
    "t_stats,df,p_value = clinical_trial(existing_drug_levels,new_drug_levels)\n",
    "print(f\"T-statistics: {t_stats}\")\n",
    "print()\n",
    "print(f\"Deegrees of Freedom: {df}\")\n",
    "print()\n",
    "print(f\"P_value: {p_value}\")\n",
    "print()\n",
    "alpha = 0.05\n",
    "if p_value < alpha:\n",
    "    print(\"there is significant difference in quality between the two versions\")\n",
    "else:\n",
    "    print(\"there is 'NO' significant difference in quality between the two versions\")"
   ]
  },
  {
   "cell_type": "markdown",
   "id": "5c5a8923-121c-446a-9e3b-677ea209beb2",
   "metadata": {},
   "source": [
    "## Q17"
   ]
  },
  {
   "cell_type": "code",
   "execution_count": 137,
   "id": "be725c83-e1f9-4250-8e99-c098f352d703",
   "metadata": {},
   "outputs": [],
   "source": [
    "# A school district introduces an educational intervention program to improve math scores. Write a Python function to analyze pre- and post-intervention\n",
    "# test scores, calculating the t-statistic and p-value to determine if the intervention had a significant impact.Use the following data of test score:\n",
    "pre_intervention_scores = [80, 85, 90, 75, 88, 82, 92, 78, 85, 87]\n",
    "post_intervention_scores = [90, 92, 88, 92, 95, 91, 96, 93, 89, 93]"
   ]
  },
  {
   "cell_type": "code",
   "execution_count": 138,
   "id": "d97d6467-be61-493d-9a47-bbe86ecd7806",
   "metadata": {},
   "outputs": [],
   "source": [
    "def analyze_intervention(pre_intervention_scores,post_intervention_scores):\n",
    "\n",
    "# convert list to array    \n",
    "    pre = np.array(pre_intervention_scores)\n",
    "    post = np.array(post_intervention_scores)\n",
    "\n",
    "# diffrence\n",
    "    diff = post - pre\n",
    "    \n",
    "# calculate mean\n",
    "    mean_diff = np.mean(diff)\n",
    "\n",
    "# calculate standard deviation\n",
    "    std_diff = np.std(diff)\n",
    "\n",
    "# sample sizes\n",
    "    n = len(diff)\n",
    "\n",
    "# calculate t_statistics\n",
    "    t_stats = mean_diff / (std_diff / np.sqrt(n))\n",
    "\n",
    "# calculate degree of freedom\n",
    "    df = n-1\n",
    "\n",
    "# calculate p_value\n",
    "    p_value = 2 * stats.t.cdf(-abs(t_stats),df)\n",
    "    \n",
    "    return t_stats,df,p_value"
   ]
  },
  {
   "cell_type": "code",
   "execution_count": 139,
   "id": "8b7f3560-8dd4-4e91-a446-e4a97116cdc2",
   "metadata": {},
   "outputs": [
    {
     "name": "stdout",
     "output_type": "stream",
     "text": [
      "T-statistics: 4.667952781247146\n",
      "\n",
      "Deegrees of Freedom: 9\n",
      "\n",
      "P_value: 0.0011719755940607388\n",
      "\n",
      "the intervention had a significant impact\n"
     ]
    }
   ],
   "source": [
    "t_stats,df,p_value = analyze_intervention(pre_intervention_scores,post_intervention_scores)\n",
    "print(f\"T-statistics: {t_stats}\")\n",
    "print()\n",
    "print(f\"Deegrees of Freedom: {df}\")\n",
    "print()\n",
    "print(f\"P_value: {p_value}\")\n",
    "print()\n",
    "alpha = 0.05\n",
    "if p_value < alpha:\n",
    "    print(\"the intervention had a significant impact\")\n",
    "else:\n",
    "    print(\"the intervention had 'NOT' a significant impact\")"
   ]
  },
  {
   "cell_type": "markdown",
   "id": "ed7d49e9-3eb6-4d64-9573-dbc2c509cc69",
   "metadata": {},
   "source": [
    "## Q18"
   ]
  },
  {
   "cell_type": "code",
   "execution_count": 141,
   "id": "3a0b4d7a-268f-4c36-82b6-3da3a0ac6284",
   "metadata": {},
   "outputs": [],
   "source": [
    "# An HR department wants to investigate if there's a gender-based salary gap within the company. Develop a program to analyze salary data, calculate the\n",
    "# t-statistic, and determine if there's a statistically significant difference between the average salaries of male and female employees.\n",
    "# Use the below code to generate synthetic data:\n",
    "# Generate synthetic salary data for male and female employees\n",
    "np.random.seed(0)  # For reproducibility\n",
    "male_salaries = np.random.normal(loc=50000, scale=10000, size=20)\n",
    "female_salaries = np.random.normal(loc=55000, scale=9000, size=20) "
   ]
  },
  {
   "cell_type": "code",
   "execution_count": 142,
   "id": "3748c804-3172-4a46-943b-92cb7fa134e3",
   "metadata": {},
   "outputs": [],
   "source": [
    "def salary_gap(male_salaries,female_salaries):\n",
    "\n",
    "# convert list to array    \n",
    "    male = np.array(male_salaries)\n",
    "    female = np.array(female_salaries)\n",
    "\n",
    "# calculate mean\n",
    "    mean_male = np.mean(male)\n",
    "    mean_female = np.mean(female)\n",
    "\n",
    "# calculate standard deviation\n",
    "    std_male = np.std(male)\n",
    "    std_female = np.std(female)\n",
    "\n",
    "# sample sizes\n",
    "    n_male = len(male)\n",
    "    n_female = len(female)\n",
    "\n",
    "# calculate pooled standard deviation\n",
    "    pooled_std = np.sqrt(((std_male ** 2) / n_male) + ((std_female ** 2) / n_female))\n",
    "\n",
    "# calculate t_statistics\n",
    "    t_stats = (mean_male - mean_female)/pooled_std\n",
    "\n",
    "# calculate degree of freedom\n",
    "    numerator = (std_male ** 2 / n_male + std_female ** 2 / n_female) ** 2\n",
    "    denomintor = ((std_male ** 2 / n_male)**2 / (n_male-1)) + ((std_female ** 2 / n_female)**2 / (n_female-1))\n",
    "    df = numerator/denomintor\n",
    "\n",
    "# calculate p_value\n",
    "    p_value = 2 * stats.t.cdf(-abs(t_stats),df)\n",
    "    \n",
    "    return t_stats,df,p_value"
   ]
  },
  {
   "cell_type": "code",
   "execution_count": 143,
   "id": "146c5ca5-81d3-444b-8cd7-e1658f075973",
   "metadata": {},
   "outputs": [
    {
     "name": "stdout",
     "output_type": "stream",
     "text": [
      "T-statistics: 0.06273046042966673\n",
      "\n",
      "Deegrees of Freedom: 36.166783312917644\n",
      "\n",
      "P_value: 0.9503265558706768\n",
      "\n",
      "there is 'NO' statistically significant difference between the average salaries of male and female employees\n"
     ]
    }
   ],
   "source": [
    "t_stats,df,p_value = salary_gap(male_salaries,female_salaries)\n",
    "print(f\"T-statistics: {t_stats}\")\n",
    "print()\n",
    "print(f\"Deegrees of Freedom: {df}\")\n",
    "print()\n",
    "print(f\"P_value: {p_value}\")\n",
    "print()\n",
    "alpha = 0.05\n",
    "if p_value < alpha:\n",
    "    print(\"there is statistically significant difference between the average salaries of male and female employees\")\n",
    "else:\n",
    "    print(\"there is 'NO' statistically significant difference between the average salaries of male and female employees\")"
   ]
  },
  {
   "cell_type": "markdown",
   "id": "0e0036d4-7661-462f-8557-96ec60b1944e",
   "metadata": {},
   "source": [
    "## Q19"
   ]
  },
  {
   "cell_type": "code",
   "execution_count": 145,
   "id": "97851dce-016b-44f6-bcd8-d42c80c259de",
   "metadata": {},
   "outputs": [],
   "source": [
    "#A manufacturer produces two different versions of a product and wants to compare their quality scores.Create a Python function to analyze quality ass-\n",
    "#essment data, calculate the t-statistic,and decide whether there's a significant difference in quality between the two versions.Use the following data:\n",
    "version1_scores = [85, 88, 82, 89, 87, 84, 90, 88, 85, 86, 91, 83, 87, 84, 89, 86, 84, 88, 85, 86, 89, 90, 87, 88, 85]\n",
    "version2_scores = [80, 78, 83, 81, 79, 82, 76, 80, 78, 81, 77, 82, 80, 79, 82, 79, 80, 81, 79, 82, 79, 78, 80, 81, 82] "
   ]
  },
  {
   "cell_type": "code",
   "execution_count": 146,
   "id": "377272b5-700f-495c-8fdb-20f749ed49a0",
   "metadata": {},
   "outputs": [],
   "source": [
    "def compare_quality(version1_scores,version2_scores):\n",
    "\n",
    "# convert list to array    \n",
    "    version1 = np.array(version1_scores)\n",
    "    version2 = np.array(version2_scores)\n",
    "\n",
    "# calculate mean\n",
    "    mean_version1 = np.mean(version1)\n",
    "    mean_version2 = np.mean(version2)\n",
    "\n",
    "# calculate standard deviation\n",
    "    std_version1 = np.std(version1)\n",
    "    std_version2 = np.std(version2)\n",
    "\n",
    "# sample sizes\n",
    "    n_version1 = len(version1)\n",
    "    n_version2 = len(version2)\n",
    "\n",
    "# calculate pooled standard deviation\n",
    "    pooled_std = np.sqrt(((std_version1 ** 2) / n_version1) + ((std_version2 ** 2) / n_version2))\n",
    "\n",
    "# calculate t_statistics\n",
    "    t_stats = (mean_version1 - mean_version2)/pooled_std\n",
    "\n",
    "# calculate degree of freedom\n",
    "    numerator = (std_version1 ** 2 / n_version1 + std_version2 ** 2 / n_version2) ** 2\n",
    "    denomintor = ((std_version1 ** 2 / n_version1)**2 / (n_version1-1)) + ((std_version2 ** 2 / n_version2)**2 / (n_version2-1))\n",
    "    df = numerator/denomintor\n",
    "\n",
    "# calculate p_value\n",
    "    p_value = 2 * stats.t.cdf(-abs(t_stats),df)\n",
    "    \n",
    "    return t_stats,df,p_value"
   ]
  },
  {
   "cell_type": "code",
   "execution_count": 147,
   "id": "bbc1759a-a3d8-43c9-ba7b-a5ed0674e7fc",
   "metadata": {},
   "outputs": [
    {
     "name": "stdout",
     "output_type": "stream",
     "text": [
      "T-statistics: 11.55937726521971\n",
      "\n",
      "Deegrees of Freedom: 44.470610332830375\n",
      "\n",
      "P_value: 5.4519224021393324e-15\n",
      "\n",
      "there is significant difference in quality between the two versions\n"
     ]
    }
   ],
   "source": [
    "t_stats,df,p_value = compare_quality(version1_scores,version2_scores)\n",
    "print(f\"T-statistics: {t_stats}\")\n",
    "print()\n",
    "print(f\"Deegrees of Freedom: {df}\")\n",
    "print()\n",
    "print(f\"P_value: {p_value}\")\n",
    "print()\n",
    "alpha = 0.05\n",
    "if p_value < alpha:\n",
    "    print(\"there is significant difference in quality between the two versions\")\n",
    "else:\n",
    "    print(\"there is 'NO' significant difference in quality between the two versions\")"
   ]
  },
  {
   "cell_type": "markdown",
   "id": "5e4cedab-f438-40ff-a20b-fbf6daa26cbd",
   "metadata": {},
   "source": [
    "## Q20"
   ]
  },
  {
   "cell_type": "code",
   "execution_count": 149,
   "id": "00681514-102c-4772-bf47-759280b90a1f",
   "metadata": {},
   "outputs": [],
   "source": [
    "# A restaurant chain collects customer satisfaction scores for two different branches. Write a program to analyze the scores, calculate the t-statistic,\n",
    "# and determine if there's a statistically significant difference in customer satisfaction between the branches.Use the below data of scores:\n",
    "branch_a_scores = [4, 5, 3, 4, 5, 4, 5, 3, 4, 4, 5, 4, 4, 3, 4, 5, 5, 4, 3, 4, 5, 4, 3, 5, 4, 4, 5, 3, 4, 5, 4]\n",
    "branch_b_scores = [3, 4, 2, 3, 4, 3, 4, 2, 3, 3, 4, 3, 3, 2, 3, 4, 4, 3, 2, 3, 4, 3, 2, 4, 3, 3, 4, 2, 3, 4, 3] "
   ]
  },
  {
   "cell_type": "code",
   "execution_count": 150,
   "id": "4a8280ca-5153-45bd-b5e7-76f5b40bad75",
   "metadata": {},
   "outputs": [],
   "source": [
    "def compare_satisfaction(branch_a_scores,branch_b_scores):\n",
    "\n",
    "# convert list to array    \n",
    "    branch_a = np.array(branch_a_scores)\n",
    "    branch_b = np.array(branch_b_scores)\n",
    "\n",
    "# calculate mean\n",
    "    mean_branch_a = np.mean(branch_a)\n",
    "    mean_branch_b = np.mean(branch_b)\n",
    "\n",
    "# calculate standard deviation\n",
    "    std_branch_a = np.std(branch_a)\n",
    "    std_branch_b = np.std(branch_b)\n",
    "\n",
    "# sample sizes\n",
    "    n_branch_a = len(branch_a)\n",
    "    n_branch_b = len(branch_b)\n",
    "\n",
    "# calculate pooled standard deviation\n",
    "    pooled_std = np.sqrt(((std_branch_a ** 2) / n_branch_a) + ((std_branch_b ** 2) / n_branch_b))\n",
    "\n",
    "# calculate t_statistics\n",
    "    t_stats = (mean_branch_a - mean_branch_b)/pooled_std\n",
    "\n",
    "# calculate degree of freedom\n",
    "    numerator = (std_branch_a ** 2 / n_branch_a + std_branch_b ** 2 / n_branch_b) ** 2\n",
    "    denomintor = ((std_branch_a ** 2 / n_branch_a)**2 / (n_branch_a-1)) + ((std_branch_b ** 2 / n_branch_b)**2 / (n_branch_b-1))\n",
    "    df = numerator/denomintor\n",
    "\n",
    "# calculate p_value\n",
    "    p_value = 2 * stats.t.cdf(-abs(t_stats),df)\n",
    "    \n",
    "    return t_stats,df,p_value"
   ]
  },
  {
   "cell_type": "code",
   "execution_count": 151,
   "id": "3cc0a6b7-5c6c-4e79-93c7-7cac7a7c907b",
   "metadata": {},
   "outputs": [
    {
     "name": "stdout",
     "output_type": "stream",
     "text": [
      "T-statistics: 5.570663485319021\n",
      "\n",
      "Deegrees of Freedom: 60.00000000000001\n",
      "\n",
      "P_value: 6.320764851325931e-07\n",
      "\n",
      "there is a statistically significant difference in customer satisfaction between the branches\n"
     ]
    }
   ],
   "source": [
    "t_stats,df,p_value = compare_satisfaction(branch_a_scores,branch_b_scores)\n",
    "print(f\"T-statistics: {t_stats}\")\n",
    "print()\n",
    "print(f\"Deegrees of Freedom: {df}\")\n",
    "print()\n",
    "print(f\"P_value: {p_value}\")\n",
    "print()\n",
    "alpha = 0.05\n",
    "if p_value < alpha:\n",
    "    print(\"there is a statistically significant difference in customer satisfaction between the branches\")\n",
    "else:\n",
    "    print(\"there is 'NO' statistically significant difference in customer satisfaction between the branches\")"
   ]
  },
  {
   "cell_type": "markdown",
   "id": "160437c0-fe87-42aa-970f-4e938fd1bdf4",
   "metadata": {},
   "source": [
    "## Q21"
   ]
  },
  {
   "cell_type": "code",
   "execution_count": 153,
   "id": "654539db-abfb-4466-a925-3d07953de0dd",
   "metadata": {},
   "outputs": [],
   "source": [
    "# A political analyst wants to determine if there is a significant association between age groups and voter preferences (Candidate A or Candidate B). \n",
    "# They collect data from a sample of 500 voters and classify them into different age groups and candidate preferences. Perform a Chi-Square test to \n",
    "# determine if there is a significant association between age groups and voter preferences.Use the below code to generate data:\n",
    "np.random.seed(0)\n",
    "age_groups = np.random.choice(['18-30', '31-50', '51+','51+'], size=30)\n",
    "voter_preferences = np.random.choice(['Candidate A', 'Candidate B'], size=30)\n",
    "data = pd.DataFrame({'Age Group' : age_groups, 'Voter Preferences' : voter_preferences})"
   ]
  },
  {
   "cell_type": "code",
   "execution_count": 154,
   "id": "3e7060a2-1115-452e-bb2e-30e619cefb99",
   "metadata": {},
   "outputs": [
    {
     "name": "stdout",
     "output_type": "stream",
     "text": [
      "chi2-Square Statistics : 1.086807928913192\n",
      "\n",
      "Deegrees of Freedom : 2\n",
      "\n",
      "P_value : 0.5807679703526951\n",
      "\n",
      "Expected Frequency : \n",
      "[[2.93333333 5.06666667]\n",
      " [2.93333333 5.06666667]\n",
      " [5.13333333 8.86666667]]\n",
      "\n",
      "there is 'NO' significance association between age groups and voter preferences\n"
     ]
    }
   ],
   "source": [
    "contingency_table = pd.crosstab(data['Age Group'],data['Voter Preferences'])\n",
    "chi2_stat, p_value,df,expected = stats.chi2_contingency(contingency_table)\n",
    "print(f\"chi2-Square Statistics : {chi2_stat}\")\n",
    "print()\n",
    "print(f\"Deegrees of Freedom : {df}\")\n",
    "print()\n",
    "print(f\"P_value : {p_value}\")\n",
    "print()\n",
    "print(f\"Expected Frequency : \\n{expected}\")\n",
    "print()\n",
    "alpha = 0.05\n",
    "if p_value < alpha:\n",
    "    print(\"there is a significant association between age groups and voter preferences\")\n",
    "else:\n",
    "    print(\"there is 'NO' significance association between age groups and voter preferences\")"
   ]
  },
  {
   "cell_type": "markdown",
   "id": "e5f96825-bb13-48a0-ace9-7da2d0574140",
   "metadata": {},
   "source": [
    "## Q22"
   ]
  },
  {
   "cell_type": "code",
   "execution_count": 156,
   "id": "c04eb138-aedb-4d70-b9d0-0d18e64be4b6",
   "metadata": {},
   "outputs": [],
   "source": [
    "# A company conducted a customer satisfaction survey to determine if there is a significant relationship between product satisfaction levels \n",
    "# (Satisfied, Neutral, Dissatisfied) and the region where customers are located (East, West, North, South).The survey data is summarized in a con-\n",
    "# tingency table. Conduct a ChiSquare test to determine if there is a significant relationship between product satisfaction levels and customer regions.\n",
    "# Sample data: Product satisfaction levels (rows) vs. Customer regions (columns)\n",
    "data = np.array([[50, 30, 40, 20], [30, 40, 30, 50], [20, 30, 40, 30]])"
   ]
  },
  {
   "cell_type": "code",
   "execution_count": 157,
   "id": "60bb78ec-756f-4770-b231-2d82fb08f088",
   "metadata": {},
   "outputs": [
    {
     "name": "stdout",
     "output_type": "stream",
     "text": [
      "chi2-Square Statistics : 27.777056277056275\n",
      "\n",
      "Deegrees of Freedom : 6\n",
      "\n",
      "P_value : 0.00010349448486004387\n",
      "\n",
      "Expected Frequency : \n",
      "[[34.14634146 34.14634146 37.56097561 34.14634146]\n",
      " [36.58536585 36.58536585 40.24390244 36.58536585]\n",
      " [29.26829268 29.26829268 32.19512195 29.26829268]]\n",
      "\n",
      "there is a significant relationship between product satisfaction levels and customer regions\n"
     ]
    }
   ],
   "source": [
    "chi2_stat, p_value,df,expected = stats.chi2_contingency(data)\n",
    "print(f\"chi2-Square Statistics : {chi2_stat}\")\n",
    "print()\n",
    "print(f\"Deegrees of Freedom : {df}\")\n",
    "print()\n",
    "print(f\"P_value : {p_value}\")\n",
    "print()\n",
    "print(f\"Expected Frequency : \\n{expected}\")\n",
    "print()\n",
    "alpha = 0.05\n",
    "if p_value < alpha:\n",
    "    print(\"there is a significant relationship between product satisfaction levels and customer regions\")\n",
    "else:\n",
    "    print(\"there is 'NO' significance relationship between product satisfaction levels and customer regions\")"
   ]
  },
  {
   "cell_type": "markdown",
   "id": "1e9e7c1d-e64b-4985-a3a4-1bf94b742308",
   "metadata": {},
   "source": [
    "## Q23"
   ]
  },
  {
   "cell_type": "code",
   "execution_count": 159,
   "id": "3328376a-95e5-44a7-a010-32925a998856",
   "metadata": {},
   "outputs": [],
   "source": [
    "# A company implemented an employee training program to improve job performance (Effective, Neutral, Ineffective). After the training, they collected \n",
    "# data from a sample of employees and classified them based on their job performance before and after the training. Perform a Chi-Square test to \n",
    "# determine if there is a significant difference between job performance levels before and after the training.\n",
    "# Sample data: Job performance levels before (rows) and after (columns) training    \n",
    "data = np.array([[50, 30, 20], [30, 40, 30], [20, 30, 40]]) "
   ]
  },
  {
   "cell_type": "code",
   "execution_count": 160,
   "id": "b1c3dcbe-8a75-484e-a03f-512290c7572c",
   "metadata": {},
   "outputs": [
    {
     "name": "stdout",
     "output_type": "stream",
     "text": [
      "chi2-Square Statistics : 22.161728395061726\n",
      "\n",
      "Deegrees of Freedom : 4\n",
      "\n",
      "P_value : 0.00018609719479882557\n",
      "\n",
      "Expected Frequency : \n",
      "[[34.48275862 34.48275862 31.03448276]\n",
      " [34.48275862 34.48275862 31.03448276]\n",
      " [31.03448276 31.03448276 27.93103448]]\n",
      "\n",
      "there is significance diffrence in job performance before and after the training\n"
     ]
    }
   ],
   "source": [
    "chi2_stat, p_value,df,expected = stats.chi2_contingency(data)\n",
    "print(f\"chi2-Square Statistics : {chi2_stat}\")\n",
    "print()\n",
    "print(f\"Deegrees of Freedom : {df}\")\n",
    "print()\n",
    "print(f\"P_value : {p_value}\")\n",
    "print()\n",
    "print(f\"Expected Frequency : \\n{expected}\")\n",
    "print()\n",
    "alpha = 0.05\n",
    "if p_value < alpha:\n",
    "    print(\"there is significance diffrence in job performance before and after the training\")\n",
    "else:\n",
    "    print(\"there is 'NO' significance diffrence in job performance before and after the training\")"
   ]
  },
  {
   "cell_type": "markdown",
   "id": "fd0e6522-2f22-4ce8-8c59-94d230410502",
   "metadata": {},
   "source": [
    "## Q24"
   ]
  },
  {
   "cell_type": "code",
   "execution_count": 162,
   "id": "b7b7c533-c222-4d6d-8d46-c6fc71a50a71",
   "metadata": {},
   "outputs": [],
   "source": [
    "#A company produces three different versions of a product: Standard, Premium, and Deluxe. The company wants to determine if there is a significant \n",
    "#difference in customer satisfaction scores among the three product versions. They conducted a survey and collected customer satisfaction scores for \n",
    "#each version from a random sample of customers. Perform an ANOVA test to determine if there is a significant difference in customer satisfaction scores.\n",
    "# Sample data: Customer satisfaction scores for each product version\n",
    "standard_scores = [80, 85, 90, 78, 88, 82, 92, 78, 85, 87]\n",
    "premium_scores = [90, 92, 88, 92, 95, 91, 96, 93, 89, 93]\n",
    "deluxe_scores = [95, 98, 92, 97, 96, 94, 98, 97, 92, 99]"
   ]
  },
  {
   "cell_type": "code",
   "execution_count": 163,
   "id": "7acb28d8-29f5-471d-8e93-8d950e0c834d",
   "metadata": {},
   "outputs": [
    {
     "name": "stdout",
     "output_type": "stream",
     "text": [
      "F-Statistics : 27.03556231003039\n",
      "\n",
      "P_value : 3.5786328857349003e-07\n",
      "\n",
      "there is significance diffrence in customer satisfaction scores among the product versions\n"
     ]
    }
   ],
   "source": [
    "f_stats , p_value = stats.f_oneway(standard_scores,premium_scores,deluxe_scores)\n",
    "print(f\"F-Statistics : {f_stats}\")\n",
    "print()\n",
    "print(f\"P_value : {p_value}\")\n",
    "print()\n",
    "alpha = 0.05\n",
    "if p_value < alpha:\n",
    "    print(\"there is significance diffrence in customer satisfaction scores among the product versions\")\n",
    "else:\n",
    "    print(\"there is 'NO' significance diffrence in customer satisfaction scores among the product versions\")"
   ]
  }
 ],
 "metadata": {
  "kernelspec": {
   "display_name": "Python 3 (ipykernel)",
   "language": "python",
   "name": "python3"
  },
  "language_info": {
   "codemirror_mode": {
    "name": "ipython",
    "version": 3
   },
   "file_extension": ".py",
   "mimetype": "text/x-python",
   "name": "python",
   "nbconvert_exporter": "python",
   "pygments_lexer": "ipython3",
   "version": "3.12.4"
  }
 },
 "nbformat": 4,
 "nbformat_minor": 5
}
